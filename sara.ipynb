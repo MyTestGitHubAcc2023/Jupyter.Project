{
 "cells": [
  {
   "cell_type": "markdown",
   "metadata": {},
   "source": [
    "<center>\n",
    "    <img src=\"https://cf-courses-data.s3.us.cloud-object-storage.appdomain.cloud/IBMDeveloperSkillsNetwork-DS0105EN-SkillsNetwork/labs/Module2/images/SN_web_lightmode.png\" width=\"300\" alt=\"cognitiveclass.ai logo\">\n",
    "</center>\n"
   ]
  },
  {
   "cell_type": "markdown",
   "metadata": {},
   "source": [
    "# Data Science"
   ]
  },
  {
   "cell_type": "markdown",
   "metadata": {},
   "source": [
    "Here we view the some information about Data science."
   ]
  },
  {
   "cell_type": "markdown",
   "metadata": {},
   "source": [
    "### Languages\n",
    "+ Python\n",
    "+ SQL\n",
    "+ R\n",
    "+ Scala\n",
    "+ C++\n",
    "+ Java Script\n",
    "+ Java"
   ]
  },
  {
   "cell_type": "markdown",
   "metadata": {},
   "source": [
    "### Libraries\n",
    "+ Trans Flow\n",
    "+ Panda\n",
    "+ NumPy\n",
    "+ Scikit-learn\n",
    "+ Matpltlib\n",
    "+ Keras"
   ]
  },
  {
   "cell_type": "markdown",
   "metadata": {},
   "source": [
    "### Tools and its use\n",
    "\n",
    "| Scientific Computing | Visualization | Machine Learning |\n",
    "| --- | --- | --- |\n",
    "| Panda | Matpltlib | SciKit-learn |\n",
    "| NumPy | Seaborn | Keras |"
   ]
  },
  {
   "cell_type": "markdown",
   "metadata": {},
   "source": [
    "\n",
    "$$\n",
    "  \\int_0^\\infty \\frac{x^3}{e^x-1}\\,dx = \\frac{\\pi^4}{15}\n",
    "$$"
   ]
  },
  {
   "cell_type": "code",
   "execution_count": 1,
   "metadata": {
    "tags": []
   },
   "outputs": [
    {
     "name": "stdin",
     "output_type": "stream",
     "text": [
      "enter number: 2\n"
     ]
    },
    {
     "name": "stdout",
     "output_type": "stream",
     "text": [
      "Double of 2, is 4\n"
     ]
    }
   ],
   "source": [
    "num = input(\"enter number:\")    \n",
    "doub = int(num) * 2 \n",
    "print(\"Double of {0}, is {1}\".format(num, doub))"
   ]
  },
  {
   "cell_type": "code",
   "execution_count": 28,
   "metadata": {
    "tags": []
   },
   "outputs": [
    {
     "name": "stdout",
     "output_type": "stream",
     "text": [
      "92 hours\n"
     ]
    }
   ],
   "source": [
    "def convert(minutes):\n",
    "    hour = minutes // 60\n",
    "\n",
    "    return \"%d\" % (hour)\n",
    "\n",
    "n = 5555\n",
    "print(convert(n) + \" hours\")"
   ]
  },
  {
   "cell_type": "markdown",
   "metadata": {},
   "source": [
    "### The Goal Of This Research Is :\n",
    "+ Introduce the basics of data science.\n",
    "+ Define the most usable tools and languages.\n",
    "+ Giving examples of Jutyper's Notebook capability."
   ]
  },
  {
   "cell_type": "markdown",
   "metadata": {
    "tags": []
   },
   "source": [
    "---\n",
    "Title: Introduction Into Data Science\n",
    "\n",
    "Author: Sara Shkohie\n",
    "\n",
    "Date: 6-8-2023\n"
   ]
  },
  {
   "cell_type": "code",
   "execution_count": null,
   "metadata": {},
   "outputs": [],
   "source": []
  }
 ],
 "metadata": {
  "kernelspec": {
   "display_name": "Python",
   "language": "python",
   "name": "conda-env-python-py"
  },
  "language_info": {
   "codemirror_mode": {
    "name": "ipython",
    "version": 3
   },
   "file_extension": ".py",
   "mimetype": "text/x-python",
   "name": "python",
   "nbconvert_exporter": "python",
   "pygments_lexer": "ipython3",
   "version": "3.7.12"
  }
 },
 "nbformat": 4,
 "nbformat_minor": 4
}
